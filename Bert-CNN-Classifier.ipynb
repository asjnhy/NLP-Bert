{
  "nbformat": 4,
  "nbformat_minor": 0,
  "metadata": {
    "colab": {
      "name": "spam_bert_cnn.ipynb",
      "provenance": [],
      "collapsed_sections": [],
      "toc_visible": true,
      "authorship_tag": "ABX9TyPy2MVTaSkziNyQs+5+RZI5",
      "include_colab_link": true
    },
    "kernelspec": {
      "name": "python3",
      "display_name": "Python 3"
    },
    "accelerator": "GPU"
  },
  "cells": [
    {
      "cell_type": "markdown",
      "metadata": {
        "id": "view-in-github",
        "colab_type": "text"
      },
      "source": [
        "<a href=\"https://colab.research.google.com/github/asjnhy/NLP-Bert/blob/master/Bert-CNN-Classifier.ipynb\" target=\"_parent\"><img src=\"https://colab.research.google.com/assets/colab-badge.svg\" alt=\"Open In Colab\"/></a>"
      ]
    },
    {
      "cell_type": "code",
      "metadata": {
        "id": "Uk3xImKtlSfU",
        "colab_type": "code",
        "colab": {}
      },
      "source": [
        "!pip install transformers\n",
        "!pip install konlpy\n",
        "!pip install -U imbalanced-learn"
      ],
      "execution_count": 0,
      "outputs": []
    },
    {
      "cell_type": "code",
      "metadata": {
        "id": "Um2u8M-OlZ9v",
        "colab_type": "code",
        "outputId": "b90200eb-0f04-4af4-c0ff-a2ec5529d165",
        "colab": {
          "base_uri": "https://localhost:8080/",
          "height": 81
        }
      },
      "source": [
        "import tensorflow as tf\n",
        "import torch\n",
        "\n",
        "from sklearn.metrics import accuracy_score\n",
        "from sklearn.metrics import roc_auc_score\n",
        "from torch.autograd import Variable\n",
        "import torch.nn as nn\n",
        "import torch.nn.functional as F\n",
        "\n",
        "import matplotlib\n",
        "import matplotlib.pyplot as plt\n",
        "\n",
        "from transformers import BertTokenizer\n",
        "from transformers import BertModel\n",
        "from transformers import BertForSequenceClassification, AdamW, BertConfig\n",
        "from transformers import get_linear_schedule_with_warmup\n",
        "from torch.utils.data import TensorDataset, DataLoader, RandomSampler, SequentialSampler\n",
        "from keras.preprocessing.sequence import pad_sequences\n",
        "from sklearn.model_selection import train_test_split\n",
        "\n",
        "import os\n",
        "import pandas as pd\n",
        "import numpy as np\n",
        "import random\n",
        "import time\n",
        "import datetime\n",
        "\n",
        "from konlpy.tag import *"
      ],
      "execution_count": 0,
      "outputs": [
        {
          "output_type": "display_data",
          "data": {
            "text/html": [
              "<p style=\"color: red;\">\n",
              "The default version of TensorFlow in Colab will soon switch to TensorFlow 2.x.<br>\n",
              "We recommend you <a href=\"https://www.tensorflow.org/guide/migrate\" target=\"_blank\">upgrade</a> now \n",
              "or ensure your notebook will continue to use TensorFlow 1.x via the <code>%tensorflow_version 1.x</code> magic:\n",
              "<a href=\"https://colab.research.google.com/notebooks/tensorflow_version.ipynb\" target=\"_blank\">more info</a>.</p>\n"
            ],
            "text/plain": [
              "<IPython.core.display.HTML object>"
            ]
          },
          "metadata": {
            "tags": []
          }
        },
        {
          "output_type": "stream",
          "text": [
            "Using TensorFlow backend.\n"
          ],
          "name": "stderr"
        }
      ]
    },
    {
      "cell_type": "code",
      "metadata": {
        "id": "SxGrHPTzldmJ",
        "colab_type": "code",
        "outputId": "12fc994f-fb5c-4b73-b7e5-f613b514172a",
        "colab": {
          "base_uri": "https://localhost:8080/",
          "height": 125
        }
      },
      "source": [
        "from google.colab import drive\n",
        "drive.mount('/content/drive')"
      ],
      "execution_count": 0,
      "outputs": [
        {
          "output_type": "stream",
          "text": [
            "Go to this URL in a browser: https://accounts.google.com/o/oauth2/auth?client_id=947318989803-6bn6qk8qdgf4n4g3pfee6491hc0brc4i.apps.googleusercontent.com&redirect_uri=urn%3aietf%3awg%3aoauth%3a2.0%3aoob&response_type=code&scope=email%20https%3a%2f%2fwww.googleapis.com%2fauth%2fdocs.test%20https%3a%2f%2fwww.googleapis.com%2fauth%2fdrive%20https%3a%2f%2fwww.googleapis.com%2fauth%2fdrive.photos.readonly%20https%3a%2f%2fwww.googleapis.com%2fauth%2fpeopleapi.readonly\n",
            "\n",
            "Enter your authorization code:\n",
            "··········\n",
            "Mounted at /content/drive\n"
          ],
          "name": "stdout"
        }
      ]
    },
    {
      "cell_type": "markdown",
      "metadata": {
        "id": "4CKY2FMUtmt0",
        "colab_type": "text"
      },
      "source": [
        "\n",
        "## Dataset Preprocessing\n",
        "\n",
        "#####1. UnderSampling, training set = 200\n",
        "#####2. Insert [CLS] ,[SEP], Tokenize\n",
        "\n",
        "#####3. Input for Bert : input, attention_masks,  label\n",
        "#####4, split into training set(labeled), validation set(labeled)\n",
        "\n",
        "\n"
      ]
    },
    {
      "cell_type": "code",
      "metadata": {
        "id": "mTrTNapylkTB",
        "colab_type": "code",
        "outputId": "686b1fa3-3f76-4dac-81cb-36eb2317e211",
        "colab": {
          "base_uri": "https://localhost:8080/",
          "height": 52
        }
      },
      "source": [
        "train = pd.read_csv('/content/drive/My Drive/submission/0_Data/train.csv')\n",
        "test = pd.read_csv('/content/drive/My Drive/submission/0_Data/public_test.csv')\n",
        "print(train.shape)\n",
        "print(test.shape)"
      ],
      "execution_count": 0,
      "outputs": [
        {
          "output_type": "stream",
          "text": [
            "(295945, 4)\n",
            "(1626, 3)\n"
          ],
          "name": "stdout"
        }
      ]
    },
    {
      "cell_type": "code",
      "metadata": {
        "id": "cMhdvijeqfHi",
        "colab_type": "code",
        "colab": {}
      },
      "source": [
        "from imblearn.under_sampling import RandomUnderSampler\n",
        "train_list = np.array(train.index).reshape(-1,1)\n",
        "X, y= RandomUnderSampler(random_state=0).fit_sample(train_list,train['smishing'])"
      ],
      "execution_count": 0,
      "outputs": []
    },
    {
      "cell_type": "code",
      "metadata": {
        "id": "izRut0PzmQHm",
        "colab_type": "code",
        "outputId": "c3bead4c-398f-4016-fef9-4ab4d16778f4",
        "colab": {
          "base_uri": "https://localhost:8080/",
          "height": 34
        }
      },
      "source": [
        "train_smishing = []\n",
        "train_nonsmishing = []\n",
        "for a,b in zip(X,y):\n",
        "    if (b == 1):\n",
        "        train_smishing.append(a[0])\n",
        "    else: \n",
        "        train_nonsmishing.append(a[0])\n",
        "train=train.iloc[train_smishing+train_nonsmishing,:].reset_index(drop=True)\n",
        "print(len(train))"
      ],
      "execution_count": 0,
      "outputs": [
        {
          "output_type": "stream",
          "text": [
            "37406\n"
          ],
          "name": "stdout"
        }
      ]
    },
    {
      "cell_type": "code",
      "metadata": {
        "id": "Ug5Y4d7VsH87",
        "colab_type": "code",
        "colab": {}
      },
      "source": [
        "#스미싱 문자 100개, 스미싱 x 문자 100개만 추출 ---> 1000, 1000 수정 \n",
        "df1 = train[:1000]\n",
        "df2 = train[-1000:]\n",
        "train = pd.concat([df1,df2])"
      ],
      "execution_count": 0,
      "outputs": []
    },
    {
      "cell_type": "code",
      "metadata": {
        "id": "BeZmESn1q3G4",
        "colab_type": "code",
        "outputId": "8e40bdef-eb84-4b86-89ca-feae0f4e18cf",
        "colab": {
          "base_uri": "https://localhost:8080/",
          "height": 195
        }
      },
      "source": [
        "train.head()"
      ],
      "execution_count": 0,
      "outputs": [
        {
          "output_type": "execute_result",
          "data": {
            "text/html": [
              "<div>\n",
              "<style scoped>\n",
              "    .dataframe tbody tr th:only-of-type {\n",
              "        vertical-align: middle;\n",
              "    }\n",
              "\n",
              "    .dataframe tbody tr th {\n",
              "        vertical-align: top;\n",
              "    }\n",
              "\n",
              "    .dataframe thead th {\n",
              "        text-align: right;\n",
              "    }\n",
              "</style>\n",
              "<table border=\"1\" class=\"dataframe\">\n",
              "  <thead>\n",
              "    <tr style=\"text-align: right;\">\n",
              "      <th></th>\n",
              "      <th>id</th>\n",
              "      <th>year_month</th>\n",
              "      <th>text</th>\n",
              "      <th>smishing</th>\n",
              "    </tr>\n",
              "  </thead>\n",
              "  <tbody>\n",
              "    <tr>\n",
              "      <th>0</th>\n",
              "      <td>10</td>\n",
              "      <td>2017-01</td>\n",
              "      <td>(광고)XXXBaXXX고객님들 뒤엔XXX 언제나 XXX새로운 마음가짐으로 새롭게 준...</td>\n",
              "      <td>1</td>\n",
              "    </tr>\n",
              "    <tr>\n",
              "      <th>1</th>\n",
              "      <td>26</td>\n",
              "      <td>2017-01</td>\n",
              "      <td>(광고)XXX추가 XXX품   특판 안내문XXX 지점에서 취급하고 있는 여신 XXX...</td>\n",
              "      <td>1</td>\n",
              "    </tr>\n",
              "    <tr>\n",
              "      <th>2</th>\n",
              "      <td>36</td>\n",
              "      <td>2017-01</td>\n",
              "      <td>(광고)XXX신용관리 XXX 알고 싶다나의 신용과 재무상태는 직접 관리해야지 누군가...</td>\n",
              "      <td>1</td>\n",
              "    </tr>\n",
              "    <tr>\n",
              "      <th>3</th>\n",
              "      <td>45</td>\n",
              "      <td>2017-01</td>\n",
              "      <td>(광고)안녕하세요수신을 희망하지 않으실 경우에는 거부 라는 답장을 주시면 KISA ...</td>\n",
              "      <td>1</td>\n",
              "    </tr>\n",
              "    <tr>\n",
              "      <th>4</th>\n",
              "      <td>58</td>\n",
              "      <td>2017-01</td>\n",
              "      <td>(광고)한국citi bank 나의 대출한도와 금리는? 대출때문에 고민하고 있다거나 ...</td>\n",
              "      <td>1</td>\n",
              "    </tr>\n",
              "  </tbody>\n",
              "</table>\n",
              "</div>"
            ],
            "text/plain": [
              "   id year_month                                               text  smishing\n",
              "0  10    2017-01  (광고)XXXBaXXX고객님들 뒤엔XXX 언제나 XXX새로운 마음가짐으로 새롭게 준...         1\n",
              "1  26    2017-01  (광고)XXX추가 XXX품   특판 안내문XXX 지점에서 취급하고 있는 여신 XXX...         1\n",
              "2  36    2017-01  (광고)XXX신용관리 XXX 알고 싶다나의 신용과 재무상태는 직접 관리해야지 누군가...         1\n",
              "3  45    2017-01  (광고)안녕하세요수신을 희망하지 않으실 경우에는 거부 라는 답장을 주시면 KISA ...         1\n",
              "4  58    2017-01  (광고)한국citi bank 나의 대출한도와 금리는? 대출때문에 고민하고 있다거나 ...         1"
            ]
          },
          "metadata": {
            "tags": []
          },
          "execution_count": 8
        }
      ]
    },
    {
      "cell_type": "code",
      "metadata": {
        "id": "km9BdoielyxJ",
        "colab_type": "code",
        "colab": {}
      },
      "source": [
        "sentences = list(train[\"text\"])\n",
        "sentences[:10]"
      ],
      "execution_count": 0,
      "outputs": []
    },
    {
      "cell_type": "code",
      "metadata": {
        "id": "ImWh42AHrPK-",
        "colab_type": "code",
        "colab": {}
      },
      "source": [
        "# 라벨 추출\n",
        "labels =list(train['smishing'].values)"
      ],
      "execution_count": 0,
      "outputs": []
    },
    {
      "cell_type": "code",
      "metadata": {
        "id": "hxapbM3dn83y",
        "colab_type": "code",
        "colab": {}
      },
      "source": [
        "#csv 파일 추가\n",
        "removeword=['[Web발신]', \"\\n\", \"\\r\",'X',\n",
        "            '.', '을', '를', '이', '가', '-', '(', ')', ':', '!', '?', ')-', '.-', 'ㅡ','..', '.(', '은', '는','0','1','2','3','4','5','6','7','8','9']\n",
        "\n",
        "def stopword(s): \n",
        "    if removeword:\n",
        "        for word in removeword:\n",
        "            s = s.replace(word,\"\")\n",
        "    return s\n",
        "\n",
        "def cut(s):\n",
        "    if len(s) > 30: \n",
        "        return s[:30]"
      ],
      "execution_count": 0,
      "outputs": []
    },
    {
      "cell_type": "code",
      "metadata": {
        "id": "txKoX7O_neLs",
        "colab_type": "code",
        "outputId": "cee445b7-974c-41c8-cdd9-e0586f748cbc",
        "colab": {
          "base_uri": "https://localhost:8080/",
          "height": 193
        }
      },
      "source": [
        "sentences_preprocess = list(map(lambda sen: cut(stopword(str(sen))),sentences))\n",
        "sentences_ = list(map(lambda sen:'[CLS]' + str(sen) + '[SEP]' , sentences_preprocess))\n",
        "sentences_[:10]"
      ],
      "execution_count": 0,
      "outputs": [
        {
          "output_type": "execute_result",
          "data": {
            "text/plain": [
              "['[CLS]광고Ba고객님들 뒤엔 언제나 새로운 마음짐으로 새롭게 [SEP]',\n",
              " '[CLS]광고추 품   특판 안내문 지점에서 취급하고 있 여신 [SEP]',\n",
              " '[CLS]광고신용관리  알고 싶다나의 신용과 재무상태 직접 관리[SEP]',\n",
              " '[CLS]광고안녕하세요수신 희망하지 않으실 경우에 거부 라 답장[SEP]',\n",
              " '[CLS]광고한국citi bank 나의 대출한도와 금리 대출때문[SEP]',\n",
              " '[CLS]광고다사다난했던 병신년 보내고 새로운 정유년에 늘 좋 [SEP]',\n",
              " '[CLS]광고한국  분의 시간만 투자하시면 월만원 SAVE절감되[SEP]',\n",
              " '[CLS]광고한국citi bank나의 대출한도와 금리대출때문에 [SEP]',\n",
              " '[CLS]광고신용협동조합 안내세요하루하루 힘든업무와 스트레스에 [SEP]',\n",
              " '[CLS]광고신협안녕하십니까 하루하루 힘들고 스트레스 받 대한민[SEP]']"
            ]
          },
          "metadata": {
            "tags": []
          },
          "execution_count": 12
        }
      ]
    },
    {
      "cell_type": "markdown",
      "metadata": {
        "id": "u6ry0Xb0F_Hn",
        "colab_type": "text"
      },
      "source": [
        "*WordPiece Tokenizer* "
      ]
    },
    {
      "cell_type": "code",
      "metadata": {
        "id": "IM1MhIGemu6-",
        "colab_type": "code",
        "outputId": "6e548d63-91a4-4d3d-ac9f-55313e17466b",
        "colab": {
          "base_uri": "https://localhost:8080/",
          "height": 72
        }
      },
      "source": [
        "# BERT의 토크나이저로 문장을 토큰으로 분리(wordpiece)\n",
        "tokenizer = BertTokenizer.from_pretrained('bert-base-multilingual-cased', do_lower_case=False) #버트 워드피스 토크나이저말고 딴거! \n",
        "tokenized_texts = [tokenizer.tokenize(sen) for sen in sentences_]\n",
        "\n",
        "print(sentences_[0])\n",
        "print(tokenized_texts[0])"
      ],
      "execution_count": 0,
      "outputs": [
        {
          "output_type": "stream",
          "text": [
            "[CLS]광고Ba고객님들 뒤엔 언제나 새로운 마음짐으로 새롭게 [SEP]\n",
            "['[CLS]', '광', '##고', '##B', '##a', '##고', '##객', '##님', '##들', '뒤', '##엔', '언', '##제', '##나', '새로운', '마', '##음', '##짐', '##으로', '새', '##롭', '##게', '[SEP]']\n"
          ],
          "name": "stdout"
        }
      ]
    },
    {
      "cell_type": "code",
      "metadata": {
        "id": "mZpSjzqfuwxb",
        "colab_type": "code",
        "outputId": "f84534aa-8d80-431b-a446-6370a8f3079b",
        "colab": {
          "base_uri": "https://localhost:8080/",
          "height": 34
        }
      },
      "source": [
        "len(tokenized_texts[0])"
      ],
      "execution_count": 0,
      "outputs": [
        {
          "output_type": "execute_result",
          "data": {
            "text/plain": [
              "23"
            ]
          },
          "metadata": {
            "tags": []
          },
          "execution_count": 14
        }
      ]
    },
    {
      "cell_type": "markdown",
      "metadata": {
        "id": "NZsiBaUfW4ou",
        "colab_type": "text"
      },
      "source": [
        "*attention_mask is not required for BertModel*\n",
        "\n",
        "\n"
      ]
    },
    {
      "cell_type": "code",
      "metadata": {
        "id": "_dTW6wU5tgeP",
        "colab_type": "code",
        "outputId": "5baadd00-8c83-4d8a-fe75-deabbbc3ace5",
        "colab": {
          "base_uri": "https://localhost:8080/",
          "height": 122
        }
      },
      "source": [
        "#bert 인풋 형식 맞게 input_ids 만들어줌 \n",
        "#input_ids : embedding + padding \n",
        "max_len = 0\n",
        "for txt in tokenized_texts:\n",
        "    if max_len < len(txt): \n",
        "        max_len = len(txt)\n",
        "\n",
        "\n",
        "input_ids = [tokenizer.convert_tokens_to_ids(tokens) for tokens in tokenized_texts]\n",
        "input_ids = pad_sequences(input_ids, maxlen = max_len, dtype = 'long', truncating=\"post\", padding=\"post\")\n",
        "\n",
        "print(max_len)\n",
        "print(input_ids[0])\n",
        "print(input_ids.shape)"
      ],
      "execution_count": 0,
      "outputs": [
        {
          "output_type": "stream",
          "text": [
            "32\n",
            "[   101   8903  11664  11274  10113  11664 118617 108578  27023   9109\n",
            "  86933   9548  17730  16439  39773   9246  32158 119231  11467   9415\n",
            " 118884  14153    102      0      0      0      0      0      0      0\n",
            "      0      0]\n",
            "(2000, 32)\n"
          ],
          "name": "stdout"
        }
      ]
    },
    {
      "cell_type": "code",
      "metadata": {
        "id": "OU1z2-h7vxE1",
        "colab_type": "code",
        "colab": {}
      },
      "source": [
        "# # attention_mask : 1 if not padded, 0 if padded \n",
        "\n",
        "# def masking(d):\n",
        "#     masklist = []\n",
        "#     for e in d:\n",
        "#         if float(e)!=0:\n",
        "#             masklist.append(1)\n",
        "#         else:\n",
        "#             masklist.append(0)\n",
        "#     return masklist\n",
        "# attention_mask = list(map(lambda seq : masking(seq), input_ids))\n",
        "\n",
        "\n",
        "# print(attention_mask[0])        "
      ],
      "execution_count": 0,
      "outputs": []
    },
    {
      "cell_type": "code",
      "metadata": {
        "id": "2FkGYQMlxbV_",
        "colab_type": "code",
        "colab": {}
      },
      "source": [
        "#train, test split \n",
        "train_id, validation_id,train_label, validation_label = train_test_split(input_ids, labels, test_size = 0.2, random_state = 1010, shuffle= True)\n",
        "# train_att_mask, validation_att_mask, _, _ = train_test_split(attention_mask, input_ids, test_size = 0.1, random_state = 1010, shuffle= False)"
      ],
      "execution_count": 0,
      "outputs": []
    },
    {
      "cell_type": "code",
      "metadata": {
        "id": "3ePokdlq-rai",
        "colab_type": "code",
        "colab": {}
      },
      "source": [
        "print(train_label)\n",
        "print(validation_label)"
      ],
      "execution_count": 0,
      "outputs": []
    },
    {
      "cell_type": "code",
      "metadata": {
        "id": "8wplrpHuyIfc",
        "colab_type": "code",
        "colab": {}
      },
      "source": [
        "train_id = torch.tensor(train_id)\n",
        "validation_id = torch.tensor(validation_id)\n",
        "train_label = torch.tensor(train_label)\n",
        "validation_label = torch.tensor(validation_label)"
      ],
      "execution_count": 0,
      "outputs": []
    },
    {
      "cell_type": "code",
      "metadata": {
        "id": "wO7aJ957zi6-",
        "colab_type": "code",
        "outputId": "cf712ae9-a973-4394-975c-d73b0a4c9fdf",
        "colab": {
          "base_uri": "https://localhost:8080/",
          "height": 193
        }
      },
      "source": [
        "print(train_id[53])\n",
        "print(train_label[0])\n",
        "print(validation_id[0])\n",
        "print(validation_label[0])"
      ],
      "execution_count": 0,
      "outputs": [
        {
          "output_type": "stream",
          "text": [
            "tensor([   101,   8903,  11664,   9730,  13890,  40032, 119184,  14871,  52951,\n",
            "          9521,  31605,   8903,  11664,   9297,  13764,  58303,  48345,  42608,\n",
            "          9318, 119022,  25387, 119219,    102,      0,      0,      0,      0,\n",
            "             0,      0,      0,      0,      0])\n",
            "tensor(0)\n",
            "tensor([   101,   8903,  11664,  11102,  20479,   8927,   9642,  28911,   9367,\n",
            "         10459,   9485,  18784,  19105,   9881,  13764,  35506,  14040,  14867,\n",
            "          9249,   9087, 119169,   9098,  31503,    102,      0,      0,      0,\n",
            "             0,      0,      0,      0,      0])\n",
            "tensor(1)\n"
          ],
          "name": "stdout"
        }
      ]
    },
    {
      "cell_type": "markdown",
      "metadata": {
        "id": "yH9Z_PWaZNaR",
        "colab_type": "text"
      },
      "source": [
        "\n",
        "*BertModel*\n",
        "\n",
        "*( \"The bare Bert Model transformer outputting raw hidden-states without any specific head on top.\")*"
      ]
    },
    {
      "cell_type": "code",
      "metadata": {
        "id": "bMkHa71JXww0",
        "colab_type": "code",
        "colab": {}
      },
      "source": [
        "bert_model = BertModel.from_pretrained('bert-base-multilingual-cased')\n",
        "\n",
        "with torch.no_grad():\n",
        "    x_train = bert_model(train_id)[0]\n",
        "    x_val = bert_model(validation_id)[0]\n",
        "\n"
      ],
      "execution_count": 0,
      "outputs": []
    },
    {
      "cell_type": "code",
      "metadata": {
        "id": "YGLH_1CxZ4W-",
        "colab_type": "code",
        "outputId": "94d886e4-60c4-4efc-9f51-f3c191a566a2",
        "colab": {
          "base_uri": "https://localhost:8080/",
          "height": 87
        }
      },
      "source": [
        "y_train = train_label.float().unsqueeze(1)\n",
        "y_val = validation_label.float().unsqueeze(1) \n",
        "\n",
        "print(x_train.shape)\n",
        "print(y_train.shape)\n",
        "print(x_val.shape)\n",
        "print(y_val.shape)"
      ],
      "execution_count": 0,
      "outputs": [
        {
          "output_type": "stream",
          "text": [
            "torch.Size([1600, 32, 768])\n",
            "torch.Size([1600, 1])\n",
            "torch.Size([400, 32, 768])\n",
            "torch.Size([400, 1])\n"
          ],
          "name": "stdout"
        }
      ]
    },
    {
      "cell_type": "markdown",
      "metadata": {
        "id": "TGk-A-393vrR",
        "colab_type": "text"
      },
      "source": [
        "## Dataset Preprocessing - Testing set \n"
      ]
    },
    {
      "cell_type": "code",
      "metadata": {
        "id": "RvGGFwtt3fPC",
        "colab_type": "code",
        "colab": {}
      },
      "source": [
        "# sentences = test['text']\n",
        "\n",
        "# sentences_preprocess = list(map(lambda sen: cut(stopword(str(sen))),sentences))\n",
        "# sentences_ = list(map(lambda sen:'[CLS]' + str(sen) + '[SEP]' , sentences_preprocess))\n",
        "\n",
        "# tokenizer = BertTokenizer.from_pretrained('bert-base-multilingual-cased', do_lower_case=False)\n",
        "# tokenized_texts = [tokenizer.tokenize(sen) for sen in sentences_]\n",
        "\n",
        "# max_len = 22\n",
        "# input_ids = [tokenizer.convert_tokens_to_ids(tokens) for tokens in tokenized_texts]\n",
        "# input_ids = pad_sequences(input_ids, maxlen = max_len, dtype = 'long', truncating=\"post\", padding=\"post\")\n",
        "\n",
        "\n",
        "# print(sentences_[0])\n",
        "# print(tokenized_texts[0])\n",
        "# print(input_ids[0])\n"
      ],
      "execution_count": 0,
      "outputs": []
    },
    {
      "cell_type": "code",
      "metadata": {
        "id": "IiX2qWTR37c0",
        "colab_type": "code",
        "colab": {}
      },
      "source": [
        "# test_input = torch.tensor(input_ids)"
      ],
      "execution_count": 0,
      "outputs": []
    },
    {
      "cell_type": "markdown",
      "metadata": {
        "id": "CJCzgSLc6iJE",
        "colab_type": "text"
      },
      "source": [
        "## Model"
      ]
    },
    {
      "cell_type": "code",
      "metadata": {
        "id": "GfK-yPxhcZSi",
        "colab_type": "code",
        "colab": {}
      },
      "source": [
        "class CNN(nn.Module):\n",
        "    def __init__(self, embed_num, embed_dim, class_num, kernel_num, kernel_sizes, dropout, static):\n",
        "        super(CNN, self).__init__()\n",
        "\n",
        "        V = embed_num\n",
        "        D = embed_dim\n",
        "        C = class_num\n",
        "        Co = kernel_num\n",
        "        Ks = kernel_sizes\n",
        "        \n",
        "        self.static = static\n",
        "        self.embed = nn.Embedding(V, D)\n",
        "        self.convs1 = nn.ModuleList([nn.Conv2d(1, Co, (K, D)) for K in Ks]) \n",
        "        self.dropout = nn.Dropout(dropout)\n",
        "        self.fc1 = nn.Linear(len(Ks) * Co, C)\n",
        "        self.sigmoid = nn.Sigmoid()\n",
        "        \n",
        "\n",
        "    def forward(self, x):\n",
        "        if self.static:\n",
        "            x = Variable(x)\n",
        "\n",
        "        x = x.unsqueeze(1)  # (N, Ci, W, D)\n",
        "\n",
        "        x = [F.relu(conv(x)).squeeze(3) for conv in self.convs1]  # [(N, Co, W), ...]*len(Ks)\n",
        "\n",
        "        x = [F.max_pool1d(i, i.size(2)).squeeze(2) for i in x]  # [(N, Co), ...]*len(Ks)\n",
        "\n",
        "        x = torch.cat(x, 1)\n",
        "        x = self.dropout(x)  # (N, len(Ks)*Co)\n",
        "        logit = self.fc1(x)  # (N, C)\n",
        "        output = self.sigmoid(logit)\n",
        "        return output"
      ],
      "execution_count": 0,
      "outputs": []
    },
    {
      "cell_type": "code",
      "metadata": {
        "id": "tffqzNOZczvS",
        "colab_type": "code",
        "outputId": "e17e0c85-c7a3-42a9-b100-7e8f5c1f57b0",
        "colab": {
          "base_uri": "https://localhost:8080/",
          "height": 105
        }
      },
      "source": [
        "embed_num = x_train.shape[1]\n",
        "embed_dim = x_train.shape[2]\n",
        "class_num = y_train.shape[1]\n",
        "kernel_num = 3\n",
        "kernel_sizes = [2, 3, 4]\n",
        "dropout = 0.5\n",
        "static = True\n",
        "print(embed_num)\n",
        "print(embed_dim)\n",
        "print(class_num)\n",
        "print(kernel_num)\n",
        "print(kernel_sizes)"
      ],
      "execution_count": 0,
      "outputs": [
        {
          "output_type": "stream",
          "text": [
            "32\n",
            "768\n",
            "1\n",
            "3\n",
            "[2, 3, 4]\n"
          ],
          "name": "stdout"
        }
      ]
    },
    {
      "cell_type": "code",
      "metadata": {
        "id": "zdSNKuM4dQqu",
        "colab_type": "code",
        "colab": {}
      },
      "source": [
        "model = CNN(\n",
        "    embed_num=embed_num,\n",
        "    embed_dim=embed_dim,\n",
        "    class_num=class_num,\n",
        "    kernel_num=kernel_num,\n",
        "    kernel_sizes=kernel_sizes,\n",
        "    dropout=dropout,\n",
        "    static=static,\n",
        ")"
      ],
      "execution_count": 0,
      "outputs": []
    },
    {
      "cell_type": "code",
      "metadata": {
        "id": "MXJvOICedR9p",
        "colab_type": "code",
        "colab": {}
      },
      "source": [
        "n_epochs = 10\n",
        "batch_size = 10\n",
        "lr = 0.001\n",
        "optimizer = torch.optim.Adam(model.parameters(), lr=lr)\n",
        "loss_fn = nn.BCELoss()"
      ],
      "execution_count": 0,
      "outputs": []
    },
    {
      "cell_type": "code",
      "metadata": {
        "id": "36L0oz4DdWqU",
        "colab_type": "code",
        "colab": {}
      },
      "source": [
        "def generate_batch_data(x, y, batch_size):\n",
        "    i, batch = 0, 0\n",
        "    for batch, i in enumerate(range(0, len(x) - batch_size, batch_size), 1):\n",
        "        x_batch = x[i : i + batch_size]\n",
        "        y_batch = y[i : i + batch_size]\n",
        "        yield x_batch, y_batch, batch\n",
        "    if i + batch_size < len(x):\n",
        "        yield x[i + batch_size :], y[i + batch_size :], batch + 1\n",
        "    if batch == 0:\n",
        "        yield x, y, 1"
      ],
      "execution_count": 0,
      "outputs": []
    },
    {
      "cell_type": "code",
      "metadata": {
        "id": "PZN719DEdfco",
        "colab_type": "code",
        "outputId": "6c35f952-31a9-4331-a798-768786a8cf81",
        "colab": {
          "base_uri": "https://localhost:8080/",
          "height": 193
        }
      },
      "source": [
        "train_losses, val_losses = [], []\n",
        "\n",
        "\n",
        "\n",
        "\n",
        "for epoch in range(n_epochs):\n",
        "    start_time = time.time()\n",
        "    train_loss = 0\n",
        "    train_accuracy = 0\n",
        "    test_accuracy = 0\n",
        "    batch_train_accuracy = []\n",
        "    batch_test_accuracy = []\n",
        "    model.train(True)\n",
        "    for x_batch, y_batch, batch in generate_batch_data(x_train, y_train, batch_size):\n",
        "        y_pred_label = []\n",
        "        y_pred = model(x_batch)\n",
        "        optimizer.zero_grad()\n",
        "\n",
        "        y_pred_label = np.where(y_pred>=0.5, 1, 0)\n",
        "        batch_train_accuracy.append(accuracy_score(y_pred_label,y_batch.numpy()))\n",
        "\n",
        "        loss = loss_fn(y_pred,y_batch)\n",
        "        loss.backward()\n",
        "        optimizer.step()\n",
        "        train_loss += loss.item()\n",
        "\n",
        "    \n",
        "    train_accuracy = sum(batch_train_accuracy) / batch \n",
        "    train_loss /= batch\n",
        "    train_losses.append(train_loss)\n",
        "    elapsed = time.time() - start_time\n",
        "\n",
        "\n",
        "    \n",
        "    model.eval() # disable dropout for deterministic output\n",
        "    with torch.no_grad(): # deactivate autograd engine to reduce memory usage and speed up computations\n",
        "        val_loss, batch = 0, 1\n",
        "\n",
        "        for x_batch, y_batch, batch in generate_batch_data(x_val, y_val, batch_size):\n",
        "            y_pred_label = []\n",
        "            y_pred = model(x_batch)\n",
        "            loss = loss_fn(y_pred, y_batch)\n",
        "\n",
        "            val_loss += loss.item()\n",
        "\n",
        "            \n",
        "            y_pred_label = np.where(y_pred>=0.5, 1, 0)\n",
        "            batch_test_accuracy.append(accuracy_score(y_pred_label,y_batch.numpy()))\n",
        "            \n",
        "        val_loss /= batch\n",
        "        val_losses.append(val_loss)\n",
        "        test_accuracy = sum(batch_test_accuracy)/ batch\n",
        "\n",
        "    print(\n",
        "        \"Epoch %d Train loss: %.2f. Validation loss: %.2f. Elapsed time: %.2fs. Accuracy in Training: %.3f. Accuracy in Testing : %.3f\"\n",
        "        % (epoch + 1, train_losses[-1], val_losses[-1], elapsed, train_accuracy, test_accuracy)\n",
        "    )"
      ],
      "execution_count": 0,
      "outputs": [
        {
          "output_type": "stream",
          "text": [
            "Epoch 1 Train loss: 0.32. Validation loss: 0.12. Elapsed time: 2.49s. Accuracy in Training: 0.863. Accuracy in Testing : 0.965\n",
            "Epoch 2 Train loss: 0.17. Validation loss: 0.08. Elapsed time: 2.51s. Accuracy in Training: 0.939. Accuracy in Testing : 0.977\n",
            "Epoch 3 Train loss: 0.14. Validation loss: 0.06. Elapsed time: 2.37s. Accuracy in Training: 0.951. Accuracy in Testing : 0.975\n",
            "Epoch 4 Train loss: 0.10. Validation loss: 0.05. Elapsed time: 2.29s. Accuracy in Training: 0.967. Accuracy in Testing : 0.980\n",
            "Epoch 5 Train loss: 0.11. Validation loss: 0.05. Elapsed time: 2.37s. Accuracy in Training: 0.963. Accuracy in Testing : 0.980\n",
            "Epoch 6 Train loss: 0.09. Validation loss: 0.07. Elapsed time: 2.34s. Accuracy in Training: 0.963. Accuracy in Testing : 0.972\n",
            "Epoch 7 Train loss: 0.09. Validation loss: 0.05. Elapsed time: 2.36s. Accuracy in Training: 0.968. Accuracy in Testing : 0.977\n",
            "Epoch 8 Train loss: 0.08. Validation loss: 0.05. Elapsed time: 2.29s. Accuracy in Training: 0.967. Accuracy in Testing : 0.980\n",
            "Epoch 9 Train loss: 0.09. Validation loss: 0.06. Elapsed time: 2.32s. Accuracy in Training: 0.971. Accuracy in Testing : 0.980\n",
            "Epoch 10 Train loss: 0.06. Validation loss: 0.05. Elapsed time: 2.31s. Accuracy in Training: 0.968. Accuracy in Testing : 0.980\n"
          ],
          "name": "stdout"
        }
      ]
    },
    {
      "cell_type": "code",
      "metadata": {
        "id": "l0QjqQ0m4Eqh",
        "colab_type": "code",
        "outputId": "140800a0-8e10-414a-f97a-8e7b63c808c6",
        "colab": {
          "base_uri": "https://localhost:8080/",
          "height": 298
        }
      },
      "source": [
        "plt.plot(train_losses, label=\"Training loss\")\n",
        "plt.plot(val_losses, label=\"Validation loss\")\n",
        "plt.legend()\n",
        "plt.title(\"Losses\")"
      ],
      "execution_count": 0,
      "outputs": [
        {
          "output_type": "execute_result",
          "data": {
            "text/plain": [
              "Text(0.5, 1.0, 'Losses')"
            ]
          },
          "metadata": {
            "tags": []
          },
          "execution_count": 30
        },
        {
          "output_type": "display_data",
          "data": {
            "image/png": "[encoded data removed]",
            "text/plain": [
              "<Figure size 432x288 with 1 Axes>"
            ]
          },
          "metadata": {
            "tags": []
          }
        }
      ]
    },
    {
      "cell_type": "code",
      "metadata": {
        "id": "guRyg1Oy9iM2",
        "colab_type": "code",
        "colab": {}
      },
      "source": [
        "!git clone https://github.com/pytorch/captum.git\n",
        "!cd captum; pip install -e ."
      ],
      "execution_count": 0,
      "outputs": []
    },
    {
      "cell_type": "code",
      "metadata": {
        "id": "XFm-T9t9_Ek7",
        "colab_type": "code",
        "colab": {}
      },
      "source": [
        "\n",
        "\n",
        "import torch\n",
        "\n",
        "from captum.attr import IntegratedGradients\n",
        "from captum.attr import LayerConductance\n",
        "from captum.attr import NeuronConductance\n",
        "\n",
        "token_reference = TokenReferenceBase(reference_token_idx = input_ids)\n",
        "lig = LayerIntegratedGradients(model, model.embedding)"
      ],
      "execution_count": 0,
      "outputs": []
    },
    {
      "cell_type": "code",
      "metadata": {
        "id": "qfersPyB_a-C",
        "colab_type": "code",
        "colab": {}
      },
      "source": [
        ""
      ],
      "execution_count": 0,
      "outputs": []
    }
  ]
}